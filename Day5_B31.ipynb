{
 "cells": [
  {
   "cell_type": "code",
   "execution_count": null,
   "metadata": {},
   "outputs": [],
   "source": [
    "List- An ordered collection of items/elements."
   ]
  },
  {
   "cell_type": "code",
   "execution_count": 1,
   "metadata": {},
   "outputs": [
    {
     "name": "stdout",
     "output_type": "stream",
     "text": [
      "['mandeep', 'sagarika', 'bikash', 'yograj', 'rifaz']\n"
     ]
    }
   ],
   "source": [
    "students=['mandeep','sagarika','bikash','yograj','rifaz']\n",
    "\n",
    "print(students)"
   ]
  },
  {
   "cell_type": "code",
   "execution_count": null,
   "metadata": {},
   "outputs": [],
   "source": [
    "1)To print \"bikash\" from the given list."
   ]
  },
  {
   "cell_type": "code",
   "execution_count": 2,
   "metadata": {},
   "outputs": [
    {
     "name": "stdout",
     "output_type": "stream",
     "text": [
      "bikash\n"
     ]
    }
   ],
   "source": [
    "print(students[2])"
   ]
  },
  {
   "cell_type": "code",
   "execution_count": 3,
   "metadata": {},
   "outputs": [
    {
     "name": "stdout",
     "output_type": "stream",
     "text": [
      "Bikash\n"
     ]
    }
   ],
   "source": [
    "print(students[2].title())"
   ]
  },
  {
   "cell_type": "code",
   "execution_count": null,
   "metadata": {},
   "outputs": [],
   "source": [
    "Req:\n",
    "    1. To add the new element to the list ?\n",
    "    2. Edit the element from the list ?\n",
    "    3. Delete the element from the list ?"
   ]
  },
  {
   "cell_type": "code",
   "execution_count": 4,
   "metadata": {},
   "outputs": [
    {
     "name": "stdout",
     "output_type": "stream",
     "text": [
      "['mandeep', 'sagarika', 'bikash', 'yograj', 'rifaz', 'hemanth']\n"
     ]
    }
   ],
   "source": [
    "# 1.Add \"hemanth\" to the given list.\n",
    "students.append('hemanth')\n",
    "print(students)"
   ]
  },
  {
   "cell_type": "code",
   "execution_count": 5,
   "metadata": {},
   "outputs": [
    {
     "name": "stdout",
     "output_type": "stream",
     "text": [
      "['mandeep', 'sagarika', 'bikash', 'yograj', 'rifaz', 'hemanth', 'keerthika']\n"
     ]
    }
   ],
   "source": [
    "# Add \"keerthika\" to the given list.\n",
    "students.append('keerthika')\n",
    "print(students)"
   ]
  },
  {
   "cell_type": "code",
   "execution_count": null,
   "metadata": {},
   "outputs": [],
   "source": [
    "Note: Append() will always add the elements at the list"
   ]
  },
  {
   "cell_type": "code",
   "execution_count": 6,
   "metadata": {},
   "outputs": [
    {
     "name": "stdout",
     "output_type": "stream",
     "text": [
      "['mandeep', 'puneeth', 'sagarika', 'bikash', 'yograj', 'rifaz', 'hemanth', 'keerthika']\n"
     ]
    }
   ],
   "source": [
    "#  Add \"puneeth\" to the given list at the index 1 or at the 2nd place\n",
    "students.insert(1,'puneeth')\n",
    "print(students)"
   ]
  },
  {
   "cell_type": "code",
   "execution_count": 7,
   "metadata": {},
   "outputs": [
    {
     "name": "stdout",
     "output_type": "stream",
     "text": [
      "['mandeep', 'puneeth', 'sagarika', 'bikash', 'srilakshmi', 'rifaz', 'hemanth', 'keerthika']\n"
     ]
    }
   ],
   "source": [
    "# 2. Edit the element from the list,replace \"yograj\" with \"srilakshmi\"\n",
    "students[4]='srilakshmi'\n",
    "print(students)"
   ]
  },
  {
   "cell_type": "code",
   "execution_count": 8,
   "metadata": {},
   "outputs": [
    {
     "name": "stdout",
     "output_type": "stream",
     "text": [
      "['mandeep', 'sagarika', 'bikash', 'srilakshmi', 'rifaz', 'hemanth', 'keerthika']\n"
     ]
    }
   ],
   "source": [
    "# 3. Delete element from the list,delete puneeth from the list.\n",
    "del students[1]\n",
    "print(students)"
   ]
  },
  {
   "cell_type": "code",
   "execution_count": null,
   "metadata": {},
   "outputs": [],
   "source": []
  }
 ],
 "metadata": {
  "kernelspec": {
   "display_name": "Python 3",
   "language": "python",
   "name": "python3"
  },
  "language_info": {
   "codemirror_mode": {
    "name": "ipython",
    "version": 3
   },
   "file_extension": ".py",
   "mimetype": "text/x-python",
   "name": "python",
   "nbconvert_exporter": "python",
   "pygments_lexer": "ipython3",
   "version": "3.8.3"
  }
 },
 "nbformat": 4,
 "nbformat_minor": 4
}
